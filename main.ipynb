{
 "cells": [
  {
   "cell_type": "code",
   "execution_count": 36,
   "metadata": {},
   "outputs": [],
   "source": [
    "#importações das bibliotecas\n",
    "import pandas as pd\n",
    "import requests"
   ]
  },
  {
   "cell_type": "markdown",
   "metadata": {},
   "source": [
    "## Campeonato brasileiro 2024"
   ]
  },
  {
   "cell_type": "code",
   "execution_count": null,
   "metadata": {},
   "outputs": [],
   "source": [
    "seriaA2024 = requests.get('https://pt.wikipedia.org/wiki/Campeonato_Brasileiro_de_Futebol_de_2024_-_S%C3%A9rie_A')\n",
    "\n",
    "# Informações do campeonato de 2024\n",
    "tabelas2024 = pd.read_html(seriaA2024.text)\n",
    "tabela_classificação2024 = tabelas2024[6]\n",
    "tabela_jogos2024 = tabelas2024[7]\n",
    "display(tabela_jogos2024)"
   ]
  },
  {
   "cell_type": "code",
   "execution_count": 38,
   "metadata": {},
   "outputs": [],
   "source": [
    "#criando uma lista com os nomes dos times\n",
    "nomes_times = list(tabela_jogos2024[\"Casa \\ Fora\"])\n",
    "#criando uma lista com as siglas dos times\n",
    "sigla_times = list(tabela_jogos2024.columns)\n",
    "sigla_times.pop(0)\n",
    "\n",
    "#criando um dicionário com a sigla dos times\n",
    "apelidos_times = dict(zip(sigla_times, nomes_times))\n"
   ]
  },
  {
   "cell_type": "code",
   "execution_count": null,
   "metadata": {},
   "outputs": [],
   "source": [
    "# Ajustar a tabela de jogos\n",
    "tabela_jogos2024_ajustada = tabela_jogos2024.set_index(\"Casa \\ Fora\")\n",
    "# Desempilhar a tabela\n",
    "tabela_jogos2024_ajustada = tabela_jogos2024_ajustada.unstack().reset_index()\n",
    "# Renomear as colunas\n",
    "tabela_jogos2024_ajustada = tabela_jogos2024_ajustada.rename(columns={\"level_0\": \"Fora\", \"Casa \\ Fora\": \"Casa\", 0: \"Placar\"})\n",
    "\n",
    "# Função para ajustar o nome dos times\n",
    "def ajustar_apelido(linha):\n",
    "    time = linha[\"Fora\"]\n",
    "    return apelidos_times[time]\n",
    "\n",
    "# Ajustar o nome dos times aplicando a função\n",
    "tabela_jogos2024_ajustada[\"Fora\"] = tabela_jogos2024_ajustada.apply(ajustar_apelido, axis=1)\n",
    "# Remover jogos entre o mesmo time\n",
    "tabela_jogos2024_ajustada = tabela_jogos2024_ajustada[tabela_jogos2024_ajustada[\"Fora\"] != tabela_jogos2024_ajustada[\"Casa\"]]\n"
   ]
  },
  {
   "cell_type": "code",
   "execution_count": 53,
   "metadata": {},
   "outputs": [
    {
     "data": {
      "text/html": [
       "<div>\n",
       "<style scoped>\n",
       "    .dataframe tbody tr th:only-of-type {\n",
       "        vertical-align: middle;\n",
       "    }\n",
       "\n",
       "    .dataframe tbody tr th {\n",
       "        vertical-align: top;\n",
       "    }\n",
       "\n",
       "    .dataframe thead th {\n",
       "        text-align: right;\n",
       "    }\n",
       "</style>\n",
       "<table border=\"1\" class=\"dataframe\">\n",
       "  <thead>\n",
       "    <tr style=\"text-align: right;\">\n",
       "      <th></th>\n",
       "      <th>Fora</th>\n",
       "      <th>Casa</th>\n",
       "      <th>Placar</th>\n",
       "    </tr>\n",
       "  </thead>\n",
       "  <tbody>\n",
       "    <tr>\n",
       "      <th>11</th>\n",
       "      <td>Athletico Paranaense</td>\n",
       "      <td>Fortaleza</td>\n",
       "      <td>1–0</td>\n",
       "    </tr>\n",
       "    <tr>\n",
       "      <th>12</th>\n",
       "      <td>Athletico Paranaense</td>\n",
       "      <td>Grêmio</td>\n",
       "      <td>2–0</td>\n",
       "    </tr>\n",
       "    <tr>\n",
       "      <th>14</th>\n",
       "      <td>Athletico Paranaense</td>\n",
       "      <td>Juventude</td>\n",
       "      <td>1–1</td>\n",
       "    </tr>\n",
       "    <tr>\n",
       "      <th>15</th>\n",
       "      <td>Athletico Paranaense</td>\n",
       "      <td>Palmeiras</td>\n",
       "      <td>0–2</td>\n",
       "    </tr>\n",
       "    <tr>\n",
       "      <th>24</th>\n",
       "      <td>Atlético Goianiense</td>\n",
       "      <td>Botafogo</td>\n",
       "      <td>1–0</td>\n",
       "    </tr>\n",
       "    <tr>\n",
       "      <th>...</th>\n",
       "      <td>...</td>\n",
       "      <td>...</td>\n",
       "      <td>...</td>\n",
       "    </tr>\n",
       "    <tr>\n",
       "      <th>367</th>\n",
       "      <td>Vitória</td>\n",
       "      <td>Cruzeiro</td>\n",
       "      <td>3–1</td>\n",
       "    </tr>\n",
       "    <tr>\n",
       "      <th>379</th>\n",
       "      <td>Vitória</td>\n",
       "      <td>Vasco da Gama</td>\n",
       "      <td>2–1</td>\n",
       "    </tr>\n",
       "    <tr>\n",
       "      <th>380</th>\n",
       "      <td>Vasco da Gama</td>\n",
       "      <td>Athletico Paranaense</td>\n",
       "      <td>1–0</td>\n",
       "    </tr>\n",
       "    <tr>\n",
       "      <th>390</th>\n",
       "      <td>Vasco da Gama</td>\n",
       "      <td>Fluminense</td>\n",
       "      <td>2–1</td>\n",
       "    </tr>\n",
       "    <tr>\n",
       "      <th>396</th>\n",
       "      <td>Vasco da Gama</td>\n",
       "      <td>Red Bull Bragantino</td>\n",
       "      <td>2–1</td>\n",
       "    </tr>\n",
       "  </tbody>\n",
       "</table>\n",
       "<p>62 rows × 3 columns</p>\n",
       "</div>"
      ],
      "text/plain": [
       "                     Fora                  Casa Placar\n",
       "11   Athletico Paranaense             Fortaleza    1–0\n",
       "12   Athletico Paranaense                Grêmio    2–0\n",
       "14   Athletico Paranaense             Juventude    1–1\n",
       "15   Athletico Paranaense             Palmeiras    0–2\n",
       "24    Atlético Goianiense              Botafogo    1–0\n",
       "..                    ...                   ...    ...\n",
       "367               Vitória              Cruzeiro    3–1\n",
       "379               Vitória         Vasco da Gama    2–1\n",
       "380         Vasco da Gama  Athletico Paranaense    1–0\n",
       "390         Vasco da Gama            Fluminense    2–1\n",
       "396         Vasco da Gama   Red Bull Bragantino    2–1\n",
       "\n",
       "[62 rows x 3 columns]"
      ]
     },
     "metadata": {},
     "output_type": "display_data"
    }
   ],
   "source": [
    "tabela_jogos2024_ajustada[\"Placar\"] = tabela_jogos2024_ajustada[\"Placar\"].fillna(\"A jogar\")\n",
    "\n",
    "jogos_realizados2024 = tabela_jogos2024_ajustada[tabela_jogos2024_ajustada[\"Placar\"].str.contains(\"–\")]\n",
    "display(jogos_realizados2024)\n",
    "\n",
    "jogos_faltantes2024 = tabela_jogos2024_ajustada[~tabela_jogos2024_ajustada[\"Placar\"].str.contains(\"–\")]\n",
    "jogos_faltantes2024 = jogos_faltantes2024.drop(columns=[\"Placar\"])\n"
   ]
  },
  {
   "cell_type": "code",
   "execution_count": null,
   "metadata": {},
   "outputs": [],
   "source": []
  }
 ],
 "metadata": {
  "kernelspec": {
   "display_name": "Python 3",
   "language": "python",
   "name": "python3"
  },
  "language_info": {
   "codemirror_mode": {
    "name": "ipython",
    "version": 3
   },
   "file_extension": ".py",
   "mimetype": "text/x-python",
   "name": "python",
   "nbconvert_exporter": "python",
   "pygments_lexer": "ipython3",
   "version": "3.11.5"
  }
 },
 "nbformat": 4,
 "nbformat_minor": 2
}
