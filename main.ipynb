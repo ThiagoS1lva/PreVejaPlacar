{
 "cells": [
  {
   "cell_type": "code",
   "execution_count": 78,
   "metadata": {},
   "outputs": [],
   "source": [
    "#importações das bibliotecas\n",
    "import pandas as pd\n",
    "import requests\n"
   ]
  },
  {
   "cell_type": "markdown",
   "metadata": {},
   "source": [
    "## Campeonato brasileiro 2024"
   ]
  },
  {
   "cell_type": "code",
   "execution_count": 79,
   "metadata": {},
   "outputs": [
    {
     "name": "stderr",
     "output_type": "stream",
     "text": [
      "C:\\Users\\Thiago\\AppData\\Local\\Temp\\ipykernel_13464\\3065207342.py:4: FutureWarning: Passing literal html to 'read_html' is deprecated and will be removed in a future version. To read from a literal string, wrap it in a 'StringIO' object.\n",
      "  tabelas2024 = pd.read_html(seriaA2024.text)\n"
     ]
    }
   ],
   "source": [
    "seriaA2024 = requests.get('https://pt.wikipedia.org/wiki/Campeonato_Brasileiro_de_Futebol_de_2024_-_S%C3%A9rie_A')\n",
    "\n",
    "# Informações do campeonato de 2024\n",
    "tabelas2024 = pd.read_html(seriaA2024.text)\n",
    "tabela_classificação2024 = tabelas2024[6]\n",
    "tabela_jogos2024 = tabelas2024[7]"
   ]
  },
  {
   "cell_type": "code",
   "execution_count": 86,
   "metadata": {},
   "outputs": [],
   "source": [
    "#criando uma lista com os nomes dos times\n",
    "nomes_times_2024 = list(tabela_jogos2024[\"Casa \\ Fora\"])\n",
    "#criando uma lista com as siglas dos times\n",
    "sigla_times_2024 = list(tabela_jogos2024.columns)\n",
    "sigla_times_2024.pop(0)\n",
    "\n",
    "#criando um dicionário com a sigla dos times\n",
    "apelidos_times_2024 = dict(zip(sigla_times_2024, nomes_times_2024))\n"
   ]
  },
  {
   "cell_type": "code",
   "execution_count": 88,
   "metadata": {},
   "outputs": [],
   "source": [
    "# Ajustar a tabela de jogos\n",
    "tabela_jogos2024_ajustada = tabela_jogos2024.set_index(\"Casa \\ Fora\")\n",
    "# Desempilhar a tabela\n",
    "tabela_jogos2024_ajustada = tabela_jogos2024_ajustada.unstack().reset_index()\n",
    "# Renomear as colunas\n",
    "tabela_jogos2024_ajustada = tabela_jogos2024_ajustada.rename(columns={\"level_0\": \"Fora\", \"Casa \\ Fora\": \"Casa\", 0: \"Placar\"})\n",
    "\n",
    "# Função para ajustar o nome dos times\n",
    "def ajustar_apelido(linha, apelido):\n",
    "    time = linha[\"Fora\"]\n",
    "    return apelido[time]\n",
    "\n",
    "# Ajustar o nome dos times aplicando a função\n",
    "tabela_jogos2024_ajustada[\"Fora\"] = tabela_jogos2024_ajustada.apply(ajustar_apelido, axis=1, args=(apelidos_times_2024,))\n",
    "# Remover jogos entre o mesmo time\n",
    "tabela_jogos2024_ajustada = tabela_jogos2024_ajustada[tabela_jogos2024_ajustada[\"Fora\"] != tabela_jogos2024_ajustada[\"Casa\"]]\n"
   ]
  },
  {
   "cell_type": "code",
   "execution_count": 100,
   "metadata": {},
   "outputs": [
    {
     "name": "stderr",
     "output_type": "stream",
     "text": [
      "C:\\Users\\Thiago\\AppData\\Local\\Temp\\ipykernel_13464\\4097725298.py:8: SettingWithCopyWarning: \n",
      "A value is trying to be set on a copy of a slice from a DataFrame.\n",
      "Try using .loc[row_indexer,col_indexer] = value instead\n",
      "\n",
      "See the caveats in the documentation: https://pandas.pydata.org/pandas-docs/stable/user_guide/indexing.html#returning-a-view-versus-a-copy\n",
      "  jogos_realizados[\"gols_casa\"] = jogos_realizados[\"Placar\"].str.split(\"–\").str[0].astype(int)\n",
      "C:\\Users\\Thiago\\AppData\\Local\\Temp\\ipykernel_13464\\4097725298.py:9: SettingWithCopyWarning: \n",
      "A value is trying to be set on a copy of a slice from a DataFrame.\n",
      "Try using .loc[row_indexer,col_indexer] = value instead\n",
      "\n",
      "See the caveats in the documentation: https://pandas.pydata.org/pandas-docs/stable/user_guide/indexing.html#returning-a-view-versus-a-copy\n",
      "  jogos_realizados[\"gols_fora\"] = jogos_realizados[\"Placar\"].str.split(\"–\").str[1].astype(int)\n"
     ]
    }
   ],
   "source": [
    "tabela_jogos2024_ajustada[\"Placar\"] = tabela_jogos2024_ajustada[\"Placar\"].fillna(\"A jogar\")\n",
    "\n",
    "jogos_realizados = tabela_jogos2024_ajustada[tabela_jogos2024_ajustada[\"Placar\"].str.contains(\"–\")]\n",
    "jogos_faltantes = tabela_jogos2024_ajustada[~tabela_jogos2024_ajustada[\"Placar\"].str.contains(\"–\")]\n",
    "jogos_faltantes = jogos_faltantes.drop(columns=[\"Placar\"])\n",
    "\n",
    "# Separando a coluna Placar em gols_casa e gols_fora\n",
    "jogos_realizados[\"gols_casa\"] = jogos_realizados[\"Placar\"].str.split(\"–\").str[0].astype(int)\n",
    "jogos_realizados[\"gols_fora\"] = jogos_realizados[\"Placar\"].str.split(\"–\").str[1].astype(int)\n",
    "jogos_realizados = jogos_realizados.drop(columns=[\"Placar\"])\n",
    "\n",
    "# Media de gols feitos dentro de casa de um time\n",
    "# Essa Tabela diz a media de gols que o time fez em casa e a media de gols que o time sofreu dentro de casa\n",
    "media_gols_casa = jogos_realizados.groupby(\"Casa\").mean(numeric_only=True)\n",
    "media_gols_casa = media_gols_casa.rename(columns={\"gols_casa\": \"gols feitos\", \"gols_fora\": \"gols sofridos\"})\n",
    "\n",
    "# Media de gols feitos e sofridos fora de casa de um time\n",
    "media_gols_fora = jogos_realizados.groupby(\"Fora\").mean(numeric_only=True)\n",
    "media_gols_fora = media_gols_fora.rename(columns={\"gols_casa\": \"gols sofridos\", \"gols_fora\": \"gols feito\"})\n"
   ]
  },
  {
   "cell_type": "markdown",
   "metadata": {},
   "source": [
    "## Campeonato Brasileiro 2023"
   ]
  },
  {
   "cell_type": "code",
   "execution_count": 104,
   "metadata": {},
   "outputs": [
    {
     "name": "stderr",
     "output_type": "stream",
     "text": [
      "C:\\Users\\Thiago\\AppData\\Local\\Temp\\ipykernel_13464\\3708212160.py:3: FutureWarning: Passing literal html to 'read_html' is deprecated and will be removed in a future version. To read from a literal string, wrap it in a 'StringIO' object.\n",
      "  tabelas2023 = pd.read_html(seriaA2024.text)\n"
     ]
    }
   ],
   "source": [
    "seriaA2024 = requests.get('https://pt.wikipedia.org/wiki/Campeonato_Brasileiro_de_Futebol_de_2023_-_S%C3%A9rie_A')\n",
    "\n",
    "tabelas2023 = pd.read_html(seriaA2024.text)\n",
    "tabela_jogos = tabelas2023[6]\n",
    "\n",
    "nomes_times = list(tabela_jogos[\"Casa \\ Fora\"])\n",
    "sigla_times = list(tabela_jogos.columns)\n",
    "sigla_times.pop(0)\n",
    "\n",
    "apelidos_times = dict(zip(sigla_times, nomes_times))\n",
    "\n",
    "tabela_jogos_ajustada = tabela_jogos.set_index(\"Casa \\ Fora\")\n",
    "tabela_jogos_ajustada = tabela_jogos_ajustada.unstack().reset_index()\n",
    "tabela_jogos_ajustada = tabela_jogos_ajustada.rename(columns={\"level_0\": \"Fora\", \"Casa \\ Fora\": \"Casa\", 0: \"Placar\"})\n",
    "\n",
    "tabela_jogos_ajustada[\"Fora\"] = tabela_jogos_ajustada.apply(ajustar_apelido, axis=1, args=(apelidos_times,))\n",
    "tabela_jogos_ajustada = tabela_jogos_ajustada[tabela_jogos_ajustada[\"Casa\"] != tabela_jogos_ajustada[\"Fora\"]]\n",
    "\n",
    "tabela_jogos_ajustada[\"gols_casa\"] = tabela_jogos_ajustada[\"Placar\"].str.split(\"–\").str[0].astype(int)\n",
    "tabela_jogos_ajustada[\"gols_fora\"] = tabela_jogos_ajustada[\"Placar\"].str.split(\"–\").str[1].astype(int)\n",
    "tabela_jogos_ajustada = tabela_jogos_ajustada.drop(columns=[\"Placar\"])  \n",
    "\n",
    "media_gols_casa_2023 = tabela_jogos_ajustada.groupby(\"Casa\").mean(numeric_only=True)\n",
    "media_gols_casa_2023 = media_gols_casa_2023.rename(columns={\"gols_casa\": \"gols feitos\", \"gols_fora\": \"gols sofridos\"})\n",
    "\n",
    "media_gols_fora_2023 = tabela_jogos_ajustada.groupby(\"Fora\").mean(numeric_only=True)\n",
    "media_gols_fora_2023 = media_gols_fora_2023.rename(columns={\"gols_fora\": \"gols feitos\", \"gols_casa\": \"gols sofridos\"})\n",
    "\n",
    "# Removendo os times rebaixados\n",
    "media_gols_casa_2023 = media_gols_casa_2023.drop(index=[\"Santos\", \"Goiás\", \"Coritiba\", \"América Mineiro\"])\n",
    "media_gols_fora_2023 = media_gols_fora_2023.drop(index=[\"Santos\", \"Goiás\", \"Coritiba\", \"América Mineiro\"])"
   ]
  },
  {
   "cell_type": "code",
   "execution_count": null,
   "metadata": {},
   "outputs": [],
   "source": []
  }
 ],
 "metadata": {
  "kernelspec": {
   "display_name": "Python 3",
   "language": "python",
   "name": "python3"
  },
  "language_info": {
   "codemirror_mode": {
    "name": "ipython",
    "version": 3
   },
   "file_extension": ".py",
   "mimetype": "text/x-python",
   "name": "python",
   "nbconvert_exporter": "python",
   "pygments_lexer": "ipython3",
   "version": "3.11.5"
  }
 },
 "nbformat": 4,
 "nbformat_minor": 2
}
