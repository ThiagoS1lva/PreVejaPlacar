{
 "cells": [
  {
   "cell_type": "code",
   "execution_count": 69,
   "metadata": {},
   "outputs": [],
   "source": [
    "#importações das bibliotecas\n",
    "import pandas as pd\n",
    "import requests\n"
   ]
  },
  {
   "cell_type": "markdown",
   "metadata": {},
   "source": [
    "## Campeonato brasileiro 2024"
   ]
  },
  {
   "cell_type": "code",
   "execution_count": 70,
   "metadata": {},
   "outputs": [
    {
     "name": "stderr",
     "output_type": "stream",
     "text": [
      "C:\\Users\\Thiago\\AppData\\Local\\Temp\\ipykernel_13288\\3065207342.py:4: FutureWarning: Passing literal html to 'read_html' is deprecated and will be removed in a future version. To read from a literal string, wrap it in a 'StringIO' object.\n",
      "  tabelas2024 = pd.read_html(seriaA2024.text)\n"
     ]
    }
   ],
   "source": [
    "seriaA2024 = requests.get('https://pt.wikipedia.org/wiki/Campeonato_Brasileiro_de_Futebol_de_2024_-_S%C3%A9rie_A')\n",
    "\n",
    "# Informações do campeonato de 2024\n",
    "tabelas2024 = pd.read_html(seriaA2024.text)\n",
    "tabela_classificação2024 = tabelas2024[6]\n",
    "tabela_jogos2024 = tabelas2024[7]"
   ]
  },
  {
   "cell_type": "code",
   "execution_count": 71,
   "metadata": {},
   "outputs": [],
   "source": [
    "#criando uma lista com os nomes dos times\n",
    "nomes_times_2024 = list(tabela_jogos2024[\"Casa \\ Fora\"])\n",
    "#criando uma lista com as siglas dos times\n",
    "sigla_times_2024 = list(tabela_jogos2024.columns)\n",
    "sigla_times_2024.pop(0)\n",
    "\n",
    "#criando um dicionário com a sigla dos times\n",
    "apelidos_times_2024 = dict(zip(sigla_times_2024, nomes_times_2024))\n"
   ]
  },
  {
   "cell_type": "code",
   "execution_count": 72,
   "metadata": {},
   "outputs": [],
   "source": [
    "# Ajustar a tabela de jogos\n",
    "tabela_jogos2024_ajustada = tabela_jogos2024.set_index(\"Casa \\ Fora\")\n",
    "\n",
    "# Desempilhar a tabela\n",
    "tabela_jogos2024_ajustada = tabela_jogos2024_ajustada.unstack().reset_index()\n",
    "\n",
    "# Renomear as colunas\n",
    "tabela_jogos2024_ajustada = tabela_jogos2024_ajustada.rename(columns={\"level_0\": \"Fora\", \"Casa \\ Fora\": \"Casa\", 0: \"Placar\"})\n",
    "\n",
    "# Função para ajustar o nome dos times\n",
    "def ajustar_apelido(linha, apelido):\n",
    "    time = linha[\"Fora\"]\n",
    "    return apelido[time]\n",
    "\n",
    "# Ajustar o nome dos times aplicando a função\n",
    "tabela_jogos2024_ajustada[\"Fora\"] = tabela_jogos2024_ajustada.apply(ajustar_apelido, axis=1, args=(apelidos_times_2024,))\n",
    "# Remover jogos entre o mesmo time\n",
    "tabela_jogos2024_ajustada = tabela_jogos2024_ajustada[tabela_jogos2024_ajustada[\"Fora\"] != tabela_jogos2024_ajustada[\"Casa\"]]\n"
   ]
  },
  {
   "cell_type": "code",
   "execution_count": 73,
   "metadata": {},
   "outputs": [
    {
     "name": "stderr",
     "output_type": "stream",
     "text": [
      "C:\\Users\\Thiago\\AppData\\Local\\Temp\\ipykernel_13288\\1598105354.py:8: SettingWithCopyWarning: \n",
      "A value is trying to be set on a copy of a slice from a DataFrame.\n",
      "Try using .loc[row_indexer,col_indexer] = value instead\n",
      "\n",
      "See the caveats in the documentation: https://pandas.pydata.org/pandas-docs/stable/user_guide/indexing.html#returning-a-view-versus-a-copy\n",
      "  jogos_realizados[\"gols_casa\"] = jogos_realizados[\"Placar\"].str.split(\"–\").str[0].astype(int)\n",
      "C:\\Users\\Thiago\\AppData\\Local\\Temp\\ipykernel_13288\\1598105354.py:9: SettingWithCopyWarning: \n",
      "A value is trying to be set on a copy of a slice from a DataFrame.\n",
      "Try using .loc[row_indexer,col_indexer] = value instead\n",
      "\n",
      "See the caveats in the documentation: https://pandas.pydata.org/pandas-docs/stable/user_guide/indexing.html#returning-a-view-versus-a-copy\n",
      "  jogos_realizados[\"gols_fora\"] = jogos_realizados[\"Placar\"].str.split(\"–\").str[1].astype(int)\n"
     ]
    },
    {
     "data": {
      "text/plain": [
       "'\\n# Media de gols feitos dentro de casa de um time\\n# Essa Tabela diz a media de gols que o time fez em casa e a media de gols que o time sofreu dentro de casa\\nmedia_gols_casa = jogos_realizados.groupby(\"Casa\").mean(numeric_only=True)\\nmedia_gols_casa = media_gols_casa.rename(columns={\"gols_casa\": \"gols feitos_casa\", \"gols_fora\": \"gols sofridos_casa\"})\\n\\n# Media de gols feitos e sofridos fora de casa de um time\\nmedia_gols_fora = jogos_realizados.groupby(\"Fora\").mean(numeric_only=True)\\nmedia_gols_fora = media_gols_fora.rename(columns={\"gols_casa\": \"gols sofridos_fora\", \"gols_fora\": \"gols feitos_fora\"})\\n'"
      ]
     },
     "execution_count": 73,
     "metadata": {},
     "output_type": "execute_result"
    }
   ],
   "source": [
    "tabela_jogos2024_ajustada[\"Placar\"] = tabela_jogos2024_ajustada[\"Placar\"].fillna(\"A jogar\")\n",
    "\n",
    "jogos_realizados = tabela_jogos2024_ajustada[tabela_jogos2024_ajustada[\"Placar\"].str.contains(\"–\")]\n",
    "jogos_faltantes = tabela_jogos2024_ajustada[~tabela_jogos2024_ajustada[\"Placar\"].str.contains(\"–\")]\n",
    "jogos_faltantes = jogos_faltantes.drop(columns=[\"Placar\"])\n",
    "\n",
    "# Separando a coluna Placar em gols_casa e gols_fora\n",
    "jogos_realizados[\"gols_casa\"] = jogos_realizados[\"Placar\"].str.split(\"–\").str[0].astype(int)\n",
    "jogos_realizados[\"gols_fora\"] = jogos_realizados[\"Placar\"].str.split(\"–\").str[1].astype(int)\n",
    "jogos_realizados = jogos_realizados.drop(columns=[\"Placar\"])\n",
    "\n",
    "\"\"\"\n",
    "# Media de gols feitos dentro de casa de um time\n",
    "# Essa Tabela diz a media de gols que o time fez em casa e a media de gols que o time sofreu dentro de casa\n",
    "media_gols_casa = jogos_realizados.groupby(\"Casa\").mean(numeric_only=True)\n",
    "media_gols_casa = media_gols_casa.rename(columns={\"gols_casa\": \"gols feitos_casa\", \"gols_fora\": \"gols sofridos_casa\"})\n",
    "\n",
    "# Media de gols feitos e sofridos fora de casa de um time\n",
    "media_gols_fora = jogos_realizados.groupby(\"Fora\").mean(numeric_only=True)\n",
    "media_gols_fora = media_gols_fora.rename(columns={\"gols_casa\": \"gols sofridos_fora\", \"gols_fora\": \"gols feitos_fora\"})\n",
    "\"\"\"\n"
   ]
  },
  {
   "cell_type": "markdown",
   "metadata": {},
   "source": [
    "## Campeonato Brasileiro 2023"
   ]
  },
  {
   "cell_type": "code",
   "execution_count": 74,
   "metadata": {},
   "outputs": [
    {
     "name": "stderr",
     "output_type": "stream",
     "text": [
      "C:\\Users\\Thiago\\AppData\\Local\\Temp\\ipykernel_13288\\359129081.py:3: FutureWarning: Passing literal html to 'read_html' is deprecated and will be removed in a future version. To read from a literal string, wrap it in a 'StringIO' object.\n",
      "  tabelas2023 = pd.read_html(seriaA2024.text)\n"
     ]
    },
    {
     "data": {
      "text/plain": [
       "'\\nmedia_gols_casa_2023 = tabela_jogos_ajustada.groupby(\"Casa\").mean(numeric_only=True)\\nmedia_gols_casa_2023 = media_gols_casa_2023.rename(columns={\"gols_casa\": \"gols feitos_casa\", \"gols_fora\": \"gols sofridos_casa\"})\\n\\nmedia_gols_fora_2023 = tabela_jogos_ajustada.groupby(\"Fora\").mean(numeric_only=True)\\nmedia_gols_fora_2023 = media_gols_fora_2023.rename(columns={\"gols_casa\": \"gols sofridos_fora\", \"gols_fora\": \"gols feitos_fora\"})\\n\\n# Removendo os times rebaixados\\nmedia_gols_casa_2023 = media_gols_casa_2023.drop(index=[\"Santos\", \"Goiás\", \"Coritiba\", \"América Mineiro\"])\\nmedia_gols_fora_2023 = media_gols_fora_2023.drop(index=[\"Santos\", \"Goiás\", \"Coritiba\", \"América Mineiro\"])\\n'"
      ]
     },
     "execution_count": 74,
     "metadata": {},
     "output_type": "execute_result"
    }
   ],
   "source": [
    "seriaA2024 = requests.get('https://pt.wikipedia.org/wiki/Campeonato_Brasileiro_de_Futebol_de_2023_-_S%C3%A9rie_A')\n",
    "\n",
    "tabelas2023 = pd.read_html(seriaA2024.text)\n",
    "tabela_jogos = tabelas2023[6]\n",
    "\n",
    "nomes_times = list(tabela_jogos[\"Casa \\ Fora\"])\n",
    "sigla_times = list(tabela_jogos.columns)\n",
    "sigla_times.pop(0)\n",
    "\n",
    "apelidos_times = dict(zip(sigla_times, nomes_times))\n",
    "\n",
    "tabela_jogos_ajustada = tabela_jogos.set_index(\"Casa \\ Fora\")\n",
    "tabela_jogos_ajustada = tabela_jogos_ajustada.unstack().reset_index()\n",
    "tabela_jogos_ajustada = tabela_jogos_ajustada.rename(columns={\"level_0\": \"Fora\", \"Casa \\ Fora\": \"Casa\", 0: \"Placar\"})\n",
    "\n",
    "tabela_jogos_ajustada[\"Fora\"] = tabela_jogos_ajustada.apply(ajustar_apelido, axis=1, args=(apelidos_times,))\n",
    "tabela_jogos_ajustada = tabela_jogos_ajustada[tabela_jogos_ajustada[\"Casa\"] != tabela_jogos_ajustada[\"Fora\"]]\n",
    "\n",
    "tabela_jogos_ajustada[\"gols_casa\"] = tabela_jogos_ajustada[\"Placar\"].str.split(\"–\").str[0].astype(int)\n",
    "tabela_jogos_ajustada[\"gols_fora\"] = tabela_jogos_ajustada[\"Placar\"].str.split(\"–\").str[1].astype(int)\n",
    "tabela_jogos_ajustada = tabela_jogos_ajustada.drop(columns=[\"Placar\"])  \n",
    "\n",
    "\n",
    "\"\"\"\n",
    "media_gols_casa_2023 = tabela_jogos_ajustada.groupby(\"Casa\").mean(numeric_only=True)\n",
    "media_gols_casa_2023 = media_gols_casa_2023.rename(columns={\"gols_casa\": \"gols feitos_casa\", \"gols_fora\": \"gols sofridos_casa\"})\n",
    "\n",
    "media_gols_fora_2023 = tabela_jogos_ajustada.groupby(\"Fora\").mean(numeric_only=True)\n",
    "media_gols_fora_2023 = media_gols_fora_2023.rename(columns={\"gols_casa\": \"gols sofridos_fora\", \"gols_fora\": \"gols feitos_fora\"})\n",
    "\n",
    "# Removendo os times rebaixados\n",
    "media_gols_casa_2023 = media_gols_casa_2023.drop(index=[\"Santos\", \"Goiás\", \"Coritiba\", \"América Mineiro\"])\n",
    "media_gols_fora_2023 = media_gols_fora_2023.drop(index=[\"Santos\", \"Goiás\", \"Coritiba\", \"América Mineiro\"])\n",
    "\"\"\""
   ]
  },
  {
   "cell_type": "code",
   "execution_count": 75,
   "metadata": {},
   "outputs": [],
   "source": [
    "# Unindo as duas tabelas 2023 - 2024\n",
    "\n",
    "tabela_jogos_total = pd.concat([tabela_jogos_ajustada, jogos_realizados], ignore_index=True)\n",
    "media_gols_casa = tabela_jogos_total.groupby(\"Casa\").mean(numeric_only=True)\n",
    "media_gols_casa = media_gols_casa.rename(columns={\"gols_casa\": \"gols feitos_casa\", \"gols_fora\": \"gols sofridos_casa\"})\n",
    "media_gols_fora = tabela_jogos_total.groupby(\"Fora\").mean(numeric_only=True)\n",
    "media_gols_fora = media_gols_fora.rename(columns={\"gols_casa\": \"gols sofridos_fora\", \"gols_fora\": \"gols feitos_fora\"})\n",
    "\n",
    "media_gols_casa = media_gols_casa.drop(index=[\"Santos\", \"Goiás\", \"Coritiba\", \"América Mineiro\"])\n",
    "media_gols_fora = media_gols_fora.drop(index=[\"Santos\", \"Goiás\", \"Coritiba\", \"América Mineiro\"])\n"
   ]
  },
  {
   "cell_type": "code",
   "execution_count": 76,
   "metadata": {},
   "outputs": [
    {
     "data": {
      "text/plain": [
       "'\\ntabela_estatistica_2023 = media_gols_casa_2023.merge(media_gols_fora_2023, left_index=True, right_index=True)\\ntabela_estatistica_2023 = tabela_estatistica_2023.reset_index()\\ntabela_estatistica_2023 = tabela_estatistica_2023.rename(columns={\"Casa\": \"Time\"})\\n'"
      ]
     },
     "execution_count": 76,
     "metadata": {},
     "output_type": "execute_result"
    }
   ],
   "source": [
    "tabela_estatistica = media_gols_casa.merge(media_gols_fora, left_index=True, right_index=True)\n",
    "tabela_estatistica = tabela_estatistica.reset_index()\n",
    "tabela_estatistica = tabela_estatistica.rename(columns={\"Casa\": \"Time\"})\n",
    "\n",
    "\"\"\"\n",
    "tabela_estatistica_2023 = media_gols_casa_2023.merge(media_gols_fora_2023, left_index=True, right_index=True)\n",
    "tabela_estatistica_2023 = tabela_estatistica_2023.reset_index()\n",
    "tabela_estatistica_2023 = tabela_estatistica_2023.rename(columns={\"Casa\": \"Time\"})\n",
    "\"\"\""
   ]
  },
  {
   "cell_type": "markdown",
   "metadata": {},
   "source": [
    "## Previsões"
   ]
  },
  {
   "cell_type": "code",
   "execution_count": 77,
   "metadata": {},
   "outputs": [],
   "source": [
    "from scipy.stats import poisson\n",
    "\n",
    "\n",
    "def calcular_pts_esperada(linha):\n",
    "    # Disitribuição de Poisson - Eventos independentes\n",
    "    time_casa = linha[\"Casa\"]\n",
    "    time_fora = linha[\"Fora\"]\n",
    "\n",
    "\n",
    "    # Media esperada de gols que o time da casa tem X contra o time fora de casa\n",
    "    lambda_casa = tabela_estatistica.loc[tabela_estatistica[\"Time\"] == time_casa, \"gols feitos_casa\"].iloc[0] * tabela_estatistica.loc[tabela_estatistica[\"Time\"] == time_fora, \"gols sofridos_fora\"].iloc[0]\n",
    "\n",
    "    # Media esperada de gols que o time fora de casa tem X contra o time da casa\n",
    "    lambda_fora = tabela_estatistica.loc[tabela_estatistica[\"Time\"] == time_fora, \"gols feitos_fora\"].iloc[0] * tabela_estatistica.loc[tabela_estatistica[\"Time\"] == time_casa, \"gols sofridos_casa\"].iloc[0]\n",
    "\n",
    "\n",
    "    pv_casa = 0\n",
    "    p_empate = 0\n",
    "    pv_fora = 0\n",
    "    #Considerando fazer gols eventos independentes\n",
    "    for gols_casa in range(0, 7):\n",
    "        for gols_fora in range(0, 7):\n",
    "            prob_resultado = poisson.pmf(gols_casa, lambda_casa) * poisson.pmf(gols_fora, lambda_fora)\n",
    "            if gols_casa == gols_fora:\n",
    "                p_empate += prob_resultado\n",
    "            elif gols_casa > gols_fora:\n",
    "                pv_casa += prob_resultado\n",
    "            else:\n",
    "                pv_fora += prob_resultado\n",
    "\n",
    "    v_esperado_casa = pv_casa * 3 + p_empate\n",
    "    v_esperado_fora = pv_fora * 3 + p_empate\n",
    "\n",
    "    #print(v_esperado_casa)\n",
    "    #print(v_esperado_fora)\n",
    "    linha[\"pontos_casa\"] = v_esperado_casa\n",
    "    linha[\"pontos_fora\"] = v_esperado_fora\n",
    "    return linha\n",
    "\n"
   ]
  },
  {
   "cell_type": "code",
   "execution_count": 81,
   "metadata": {},
   "outputs": [
    {
     "name": "stderr",
     "output_type": "stream",
     "text": [
      "C:\\Users\\Thiago\\AppData\\Local\\Temp\\ipykernel_13288\\2688318972.py:3: SettingWithCopyWarning: \n",
      "A value is trying to be set on a copy of a slice from a DataFrame.\n",
      "Try using .loc[row_indexer,col_indexer] = value instead\n",
      "\n",
      "See the caveats in the documentation: https://pandas.pydata.org/pandas-docs/stable/user_guide/indexing.html#returning-a-view-versus-a-copy\n",
      "  tabela_classificação_atualizada[\"Pts\"] = tabela_classificação_atualizada[\"Pts\"].astype(int)\n",
      "C:\\Users\\Thiago\\AppData\\Local\\Temp\\ipykernel_13288\\2688318972.py:14: SettingWithCopyWarning: \n",
      "A value is trying to be set on a copy of a slice from a DataFrame.\n",
      "Try using .loc[row_indexer,col_indexer] = value instead\n",
      "\n",
      "See the caveats in the documentation: https://pandas.pydata.org/pandas-docs/stable/user_guide/indexing.html#returning-a-view-versus-a-copy\n",
      "  tabela_classificação_atualizada[\"Pts\"] = tabela_classificação_atualizada.apply(atualizar_pts, axis=1)\n"
     ]
    },
    {
     "data": {
      "text/html": [
       "<div>\n",
       "<style scoped>\n",
       "    .dataframe tbody tr th:only-of-type {\n",
       "        vertical-align: middle;\n",
       "    }\n",
       "\n",
       "    .dataframe tbody tr th {\n",
       "        vertical-align: top;\n",
       "    }\n",
       "\n",
       "    .dataframe thead th {\n",
       "        text-align: right;\n",
       "    }\n",
       "</style>\n",
       "<table border=\"1\" class=\"dataframe\">\n",
       "  <thead>\n",
       "    <tr style=\"text-align: right;\">\n",
       "      <th></th>\n",
       "      <th>Time</th>\n",
       "      <th>Pontos</th>\n",
       "    </tr>\n",
       "  </thead>\n",
       "  <tbody>\n",
       "    <tr>\n",
       "      <th>1</th>\n",
       "      <td>Botafogo</td>\n",
       "      <td>69.998992</td>\n",
       "    </tr>\n",
       "    <tr>\n",
       "      <th>2</th>\n",
       "      <td>Atlético Mineiro</td>\n",
       "      <td>69.446473</td>\n",
       "    </tr>\n",
       "    <tr>\n",
       "      <th>3</th>\n",
       "      <td>Palmeiras</td>\n",
       "      <td>68.579209</td>\n",
       "    </tr>\n",
       "    <tr>\n",
       "      <th>4</th>\n",
       "      <td>Flamengo</td>\n",
       "      <td>65.405254</td>\n",
       "    </tr>\n",
       "    <tr>\n",
       "      <th>5</th>\n",
       "      <td>Athletico Paranaense</td>\n",
       "      <td>61.912518</td>\n",
       "    </tr>\n",
       "    <tr>\n",
       "      <th>6</th>\n",
       "      <td>Red Bull Bragantino</td>\n",
       "      <td>61.584967</td>\n",
       "    </tr>\n",
       "    <tr>\n",
       "      <th>7</th>\n",
       "      <td>São Paulo</td>\n",
       "      <td>56.851517</td>\n",
       "    </tr>\n",
       "    <tr>\n",
       "      <th>8</th>\n",
       "      <td>Bahia</td>\n",
       "      <td>56.575501</td>\n",
       "    </tr>\n",
       "    <tr>\n",
       "      <th>9</th>\n",
       "      <td>Cruzeiro</td>\n",
       "      <td>54.795098</td>\n",
       "    </tr>\n",
       "    <tr>\n",
       "      <th>10</th>\n",
       "      <td>Internacional</td>\n",
       "      <td>53.474818</td>\n",
       "    </tr>\n",
       "    <tr>\n",
       "      <th>11</th>\n",
       "      <td>Fortaleza</td>\n",
       "      <td>49.332561</td>\n",
       "    </tr>\n",
       "    <tr>\n",
       "      <th>12</th>\n",
       "      <td>Grêmio</td>\n",
       "      <td>49.186485</td>\n",
       "    </tr>\n",
       "    <tr>\n",
       "      <th>13</th>\n",
       "      <td>Juventude</td>\n",
       "      <td>48.619711</td>\n",
       "    </tr>\n",
       "    <tr>\n",
       "      <th>14</th>\n",
       "      <td>Criciúma</td>\n",
       "      <td>44.409138</td>\n",
       "    </tr>\n",
       "    <tr>\n",
       "      <th>15</th>\n",
       "      <td>Fluminense</td>\n",
       "      <td>43.866939</td>\n",
       "    </tr>\n",
       "    <tr>\n",
       "      <th>16</th>\n",
       "      <td>Cuiabá</td>\n",
       "      <td>43.693534</td>\n",
       "    </tr>\n",
       "    <tr>\n",
       "      <th>17</th>\n",
       "      <td>Corinthians</td>\n",
       "      <td>42.871839</td>\n",
       "    </tr>\n",
       "    <tr>\n",
       "      <th>18</th>\n",
       "      <td>Vasco da Gama</td>\n",
       "      <td>36.959239</td>\n",
       "    </tr>\n",
       "    <tr>\n",
       "      <th>19</th>\n",
       "      <td>Atlético Goianiense</td>\n",
       "      <td>36.606847</td>\n",
       "    </tr>\n",
       "    <tr>\n",
       "      <th>20</th>\n",
       "      <td>Vitória</td>\n",
       "      <td>28.271129</td>\n",
       "    </tr>\n",
       "  </tbody>\n",
       "</table>\n",
       "</div>"
      ],
      "text/plain": [
       "                    Time     Pontos\n",
       "1               Botafogo  69.998992\n",
       "2       Atlético Mineiro  69.446473\n",
       "3              Palmeiras  68.579209\n",
       "4               Flamengo  65.405254\n",
       "5   Athletico Paranaense  61.912518\n",
       "6    Red Bull Bragantino  61.584967\n",
       "7              São Paulo  56.851517\n",
       "8                  Bahia  56.575501\n",
       "9               Cruzeiro  54.795098\n",
       "10         Internacional  53.474818\n",
       "11             Fortaleza  49.332561\n",
       "12                Grêmio  49.186485\n",
       "13             Juventude  48.619711\n",
       "14              Criciúma  44.409138\n",
       "15            Fluminense  43.866939\n",
       "16                Cuiabá  43.693534\n",
       "17           Corinthians  42.871839\n",
       "18         Vasco da Gama  36.959239\n",
       "19   Atlético Goianiense  36.606847\n",
       "20               Vitória  28.271129"
      ]
     },
     "metadata": {},
     "output_type": "display_data"
    }
   ],
   "source": [
    "tabela_jogos_faltantes = jogos_faltantes.apply(calcular_pts_esperada, axis=1)\n",
    "tabela_classificação_atualizada = tabela_classificação2024[[\"Equipevde\", \"Pts\"]]\n",
    "tabela_classificação_atualizada[\"Pts\"] = tabela_classificação_atualizada[\"Pts\"].astype(int)\n",
    "\n",
    "pts_casa = tabela_jogos_faltantes.groupby(\"Casa\").sum()[[\"pontos_casa\"]]\n",
    "pts_fora = tabela_jogos_faltantes.groupby(\"Fora\").sum()[[\"pontos_fora\"]]\n",
    "\n",
    "def atualizar_pts (linha):\n",
    "    time = linha[\"Equipevde\"]\n",
    "    pontuacao = int(linha[\"Pts\"]) + float(pts_casa.loc[time, \"pontos_casa\"]) + float(pts_fora.loc[time, \"pontos_fora\"])\n",
    "    \n",
    "    return pontuacao\n",
    "\n",
    "tabela_classificação_atualizada[\"Pts\"] = tabela_classificação_atualizada.apply(atualizar_pts, axis=1)\n",
    "# Renomear a coluna\n",
    "tabela_classificação_atualizada = tabela_classificação_atualizada.rename(columns={\"Equipevde\": \"Time\", \"Pts\": \"Pontos\"})\n",
    "tabela_classificação_atualizada = tabela_classificação_atualizada.sort_values(by=\"Pontos\", ascending=False).reset_index(drop=True)\n",
    "tabela_classificação_atualizada.index = tabela_classificação_atualizada.index + 1\n",
    "\n",
    "#salvando a tabela em json em utf-8\n",
    "tabela_classificação_atualizada.to_json(\"classificação.json\", orient=\"records\", force_ascii=False)\n",
    "display(tabela_classificação_atualizada)"
   ]
  }
 ],
 "metadata": {
  "kernelspec": {
   "display_name": "Python 3",
   "language": "python",
   "name": "python3"
  },
  "language_info": {
   "codemirror_mode": {
    "name": "ipython",
    "version": 3
   },
   "file_extension": ".py",
   "mimetype": "text/x-python",
   "name": "python",
   "nbconvert_exporter": "python",
   "pygments_lexer": "ipython3",
   "version": "3.11.5"
  }
 },
 "nbformat": 4,
 "nbformat_minor": 2
}
