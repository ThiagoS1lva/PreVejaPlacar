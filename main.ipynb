{
 "cells": [
  {
   "cell_type": "code",
   "execution_count": 1,
   "metadata": {},
   "outputs": [],
   "source": [
    "#importações das bibliotecas\n",
    "import pandas as pd\n",
    "import requests\n"
   ]
  },
  {
   "cell_type": "markdown",
   "metadata": {},
   "source": [
    "## Campeonato brasileiro 2024"
   ]
  },
  {
   "cell_type": "code",
   "execution_count": 2,
   "metadata": {},
   "outputs": [
    {
     "name": "stderr",
     "output_type": "stream",
     "text": [
      "C:\\Users\\Thiago\\AppData\\Local\\Temp\\ipykernel_13288\\3065207342.py:4: FutureWarning: Passing literal html to 'read_html' is deprecated and will be removed in a future version. To read from a literal string, wrap it in a 'StringIO' object.\n",
      "  tabelas2024 = pd.read_html(seriaA2024.text)\n"
     ]
    }
   ],
   "source": [
    "seriaA2024 = requests.get('https://pt.wikipedia.org/wiki/Campeonato_Brasileiro_de_Futebol_de_2024_-_S%C3%A9rie_A')\n",
    "\n",
    "# Informações do campeonato de 2024\n",
    "tabelas2024 = pd.read_html(seriaA2024.text)\n",
    "tabela_classificação2024 = tabelas2024[6]\n",
    "tabela_jogos2024 = tabelas2024[7]"
   ]
  },
  {
   "cell_type": "code",
   "execution_count": 3,
   "metadata": {},
   "outputs": [],
   "source": [
    "#criando uma lista com os nomes dos times\n",
    "nomes_times_2024 = list(tabela_jogos2024[\"Casa \\ Fora\"])\n",
    "#criando uma lista com as siglas dos times\n",
    "sigla_times_2024 = list(tabela_jogos2024.columns)\n",
    "sigla_times_2024.pop(0)\n",
    "\n",
    "#criando um dicionário com a sigla dos times\n",
    "apelidos_times_2024 = dict(zip(sigla_times_2024, nomes_times_2024))\n"
   ]
  },
  {
   "cell_type": "code",
   "execution_count": 8,
   "metadata": {},
   "outputs": [],
   "source": [
    "# Ajustar a tabela de jogos\n",
    "tabela_jogos2024_ajustada = tabela_jogos2024.set_index(\"Casa \\ Fora\")\n",
    "\n",
    "# Desempilhar a tabela\n",
    "tabela_jogos2024_ajustada = tabela_jogos2024_ajustada.unstack().reset_index()\n",
    "\n",
    "# Renomear as colunas\n",
    "tabela_jogos2024_ajustada = tabela_jogos2024_ajustada.rename(columns={\"level_0\": \"Fora\", \"Casa \\ Fora\": \"Casa\", 0: \"Placar\"})\n",
    "\n",
    "# Função para ajustar o nome dos times\n",
    "def ajustar_apelido(linha, apelido):\n",
    "    time = linha[\"Fora\"]\n",
    "    return apelido[time]\n",
    "\n",
    "# Ajustar o nome dos times aplicando a função\n",
    "tabela_jogos2024_ajustada[\"Fora\"] = tabela_jogos2024_ajustada.apply(ajustar_apelido, axis=1, args=(apelidos_times_2024,))\n",
    "# Remover jogos entre o mesmo time\n",
    "tabela_jogos2024_ajustada = tabela_jogos2024_ajustada[tabela_jogos2024_ajustada[\"Fora\"] != tabela_jogos2024_ajustada[\"Casa\"]]\n"
   ]
  },
  {
   "cell_type": "code",
   "execution_count": 18,
   "metadata": {},
   "outputs": [
    {
     "name": "stderr",
     "output_type": "stream",
     "text": [
      "C:\\Users\\Thiago\\AppData\\Local\\Temp\\ipykernel_13288\\1598105354.py:8: SettingWithCopyWarning: \n",
      "A value is trying to be set on a copy of a slice from a DataFrame.\n",
      "Try using .loc[row_indexer,col_indexer] = value instead\n",
      "\n",
      "See the caveats in the documentation: https://pandas.pydata.org/pandas-docs/stable/user_guide/indexing.html#returning-a-view-versus-a-copy\n",
      "  jogos_realizados[\"gols_casa\"] = jogos_realizados[\"Placar\"].str.split(\"–\").str[0].astype(int)\n",
      "C:\\Users\\Thiago\\AppData\\Local\\Temp\\ipykernel_13288\\1598105354.py:9: SettingWithCopyWarning: \n",
      "A value is trying to be set on a copy of a slice from a DataFrame.\n",
      "Try using .loc[row_indexer,col_indexer] = value instead\n",
      "\n",
      "See the caveats in the documentation: https://pandas.pydata.org/pandas-docs/stable/user_guide/indexing.html#returning-a-view-versus-a-copy\n",
      "  jogos_realizados[\"gols_fora\"] = jogos_realizados[\"Placar\"].str.split(\"–\").str[1].astype(int)\n"
     ]
    },
    {
     "data": {
      "text/plain": [
       "'\\n# Media de gols feitos dentro de casa de um time\\n# Essa Tabela diz a media de gols que o time fez em casa e a media de gols que o time sofreu dentro de casa\\nmedia_gols_casa = jogos_realizados.groupby(\"Casa\").mean(numeric_only=True)\\nmedia_gols_casa = media_gols_casa.rename(columns={\"gols_casa\": \"gols feitos_casa\", \"gols_fora\": \"gols sofridos_casa\"})\\n\\n# Media de gols feitos e sofridos fora de casa de um time\\nmedia_gols_fora = jogos_realizados.groupby(\"Fora\").mean(numeric_only=True)\\nmedia_gols_fora = media_gols_fora.rename(columns={\"gols_casa\": \"gols sofridos_fora\", \"gols_fora\": \"gols feitos_fora\"})\\n'"
      ]
     },
     "execution_count": 18,
     "metadata": {},
     "output_type": "execute_result"
    }
   ],
   "source": [
    "tabela_jogos2024_ajustada[\"Placar\"] = tabela_jogos2024_ajustada[\"Placar\"].fillna(\"A jogar\")\n",
    "\n",
    "jogos_realizados = tabela_jogos2024_ajustada[tabela_jogos2024_ajustada[\"Placar\"].str.contains(\"–\")]\n",
    "jogos_faltantes = tabela_jogos2024_ajustada[~tabela_jogos2024_ajustada[\"Placar\"].str.contains(\"–\")]\n",
    "jogos_faltantes = jogos_faltantes.drop(columns=[\"Placar\"])\n",
    "\n",
    "# Separando a coluna Placar em gols_casa e gols_fora\n",
    "jogos_realizados[\"gols_casa\"] = jogos_realizados[\"Placar\"].str.split(\"–\").str[0].astype(int)\n",
    "jogos_realizados[\"gols_fora\"] = jogos_realizados[\"Placar\"].str.split(\"–\").str[1].astype(int)\n",
    "jogos_realizados = jogos_realizados.drop(columns=[\"Placar\"])\n",
    "\n",
    "\"\"\"\n",
    "# Media de gols feitos dentro de casa de um time\n",
    "# Essa Tabela diz a media de gols que o time fez em casa e a media de gols que o time sofreu dentro de casa\n",
    "media_gols_casa = jogos_realizados.groupby(\"Casa\").mean(numeric_only=True)\n",
    "media_gols_casa = media_gols_casa.rename(columns={\"gols_casa\": \"gols feitos_casa\", \"gols_fora\": \"gols sofridos_casa\"})\n",
    "\n",
    "# Media de gols feitos e sofridos fora de casa de um time\n",
    "media_gols_fora = jogos_realizados.groupby(\"Fora\").mean(numeric_only=True)\n",
    "media_gols_fora = media_gols_fora.rename(columns={\"gols_casa\": \"gols sofridos_fora\", \"gols_fora\": \"gols feitos_fora\"})\n",
    "\"\"\"\n"
   ]
  },
  {
   "cell_type": "markdown",
   "metadata": {},
   "source": [
    "## Campeonato Brasileiro 2023"
   ]
  },
  {
   "cell_type": "code",
   "execution_count": 20,
   "metadata": {},
   "outputs": [
    {
     "name": "stderr",
     "output_type": "stream",
     "text": [
      "C:\\Users\\Thiago\\AppData\\Local\\Temp\\ipykernel_13288\\359129081.py:3: FutureWarning: Passing literal html to 'read_html' is deprecated and will be removed in a future version. To read from a literal string, wrap it in a 'StringIO' object.\n",
      "  tabelas2023 = pd.read_html(seriaA2024.text)\n"
     ]
    },
    {
     "data": {
      "text/plain": [
       "'\\nmedia_gols_casa_2023 = tabela_jogos_ajustada.groupby(\"Casa\").mean(numeric_only=True)\\nmedia_gols_casa_2023 = media_gols_casa_2023.rename(columns={\"gols_casa\": \"gols feitos_casa\", \"gols_fora\": \"gols sofridos_casa\"})\\n\\nmedia_gols_fora_2023 = tabela_jogos_ajustada.groupby(\"Fora\").mean(numeric_only=True)\\nmedia_gols_fora_2023 = media_gols_fora_2023.rename(columns={\"gols_casa\": \"gols sofridos_fora\", \"gols_fora\": \"gols feitos_fora\"})\\n\\n# Removendo os times rebaixados\\nmedia_gols_casa_2023 = media_gols_casa_2023.drop(index=[\"Santos\", \"Goiás\", \"Coritiba\", \"América Mineiro\"])\\nmedia_gols_fora_2023 = media_gols_fora_2023.drop(index=[\"Santos\", \"Goiás\", \"Coritiba\", \"América Mineiro\"])\\n'"
      ]
     },
     "execution_count": 20,
     "metadata": {},
     "output_type": "execute_result"
    }
   ],
   "source": [
    "seriaA2024 = requests.get('https://pt.wikipedia.org/wiki/Campeonato_Brasileiro_de_Futebol_de_2023_-_S%C3%A9rie_A')\n",
    "\n",
    "tabelas2023 = pd.read_html(seriaA2024.text)\n",
    "tabela_jogos = tabelas2023[6]\n",
    "\n",
    "nomes_times = list(tabela_jogos[\"Casa \\ Fora\"])\n",
    "sigla_times = list(tabela_jogos.columns)\n",
    "sigla_times.pop(0)\n",
    "\n",
    "apelidos_times = dict(zip(sigla_times, nomes_times))\n",
    "\n",
    "tabela_jogos_ajustada = tabela_jogos.set_index(\"Casa \\ Fora\")\n",
    "tabela_jogos_ajustada = tabela_jogos_ajustada.unstack().reset_index()\n",
    "tabela_jogos_ajustada = tabela_jogos_ajustada.rename(columns={\"level_0\": \"Fora\", \"Casa \\ Fora\": \"Casa\", 0: \"Placar\"})\n",
    "\n",
    "tabela_jogos_ajustada[\"Fora\"] = tabela_jogos_ajustada.apply(ajustar_apelido, axis=1, args=(apelidos_times,))\n",
    "tabela_jogos_ajustada = tabela_jogos_ajustada[tabela_jogos_ajustada[\"Casa\"] != tabela_jogos_ajustada[\"Fora\"]]\n",
    "\n",
    "tabela_jogos_ajustada[\"gols_casa\"] = tabela_jogos_ajustada[\"Placar\"].str.split(\"–\").str[0].astype(int)\n",
    "tabela_jogos_ajustada[\"gols_fora\"] = tabela_jogos_ajustada[\"Placar\"].str.split(\"–\").str[1].astype(int)\n",
    "tabela_jogos_ajustada = tabela_jogos_ajustada.drop(columns=[\"Placar\"])  \n",
    "\n",
    "\n",
    "\"\"\"\n",
    "media_gols_casa_2023 = tabela_jogos_ajustada.groupby(\"Casa\").mean(numeric_only=True)\n",
    "media_gols_casa_2023 = media_gols_casa_2023.rename(columns={\"gols_casa\": \"gols feitos_casa\", \"gols_fora\": \"gols sofridos_casa\"})\n",
    "\n",
    "media_gols_fora_2023 = tabela_jogos_ajustada.groupby(\"Fora\").mean(numeric_only=True)\n",
    "media_gols_fora_2023 = media_gols_fora_2023.rename(columns={\"gols_casa\": \"gols sofridos_fora\", \"gols_fora\": \"gols feitos_fora\"})\n",
    "\n",
    "# Removendo os times rebaixados\n",
    "media_gols_casa_2023 = media_gols_casa_2023.drop(index=[\"Santos\", \"Goiás\", \"Coritiba\", \"América Mineiro\"])\n",
    "media_gols_fora_2023 = media_gols_fora_2023.drop(index=[\"Santos\", \"Goiás\", \"Coritiba\", \"América Mineiro\"])\n",
    "\"\"\""
   ]
  },
  {
   "cell_type": "code",
   "execution_count": 28,
   "metadata": {},
   "outputs": [
    {
     "data": {
      "text/html": [
       "<div>\n",
       "<style scoped>\n",
       "    .dataframe tbody tr th:only-of-type {\n",
       "        vertical-align: middle;\n",
       "    }\n",
       "\n",
       "    .dataframe tbody tr th {\n",
       "        vertical-align: top;\n",
       "    }\n",
       "\n",
       "    .dataframe thead th {\n",
       "        text-align: right;\n",
       "    }\n",
       "</style>\n",
       "<table border=\"1\" class=\"dataframe\">\n",
       "  <thead>\n",
       "    <tr style=\"text-align: right;\">\n",
       "      <th></th>\n",
       "      <th>gols feitos_casa</th>\n",
       "      <th>gols sofridos_casa</th>\n",
       "    </tr>\n",
       "    <tr>\n",
       "      <th>Casa</th>\n",
       "      <th></th>\n",
       "      <th></th>\n",
       "    </tr>\n",
       "  </thead>\n",
       "  <tbody>\n",
       "    <tr>\n",
       "      <th>Athletico Paranaense</th>\n",
       "      <td>1.791667</td>\n",
       "      <td>0.875000</td>\n",
       "    </tr>\n",
       "    <tr>\n",
       "      <th>Atlético Goianiense</th>\n",
       "      <td>0.750000</td>\n",
       "      <td>2.000000</td>\n",
       "    </tr>\n",
       "    <tr>\n",
       "      <th>Atlético Mineiro</th>\n",
       "      <td>1.500000</td>\n",
       "      <td>0.818182</td>\n",
       "    </tr>\n",
       "    <tr>\n",
       "      <th>Bahia</th>\n",
       "      <td>1.478261</td>\n",
       "      <td>0.956522</td>\n",
       "    </tr>\n",
       "    <tr>\n",
       "      <th>Botafogo</th>\n",
       "      <td>1.913043</td>\n",
       "      <td>0.869565</td>\n",
       "    </tr>\n",
       "    <tr>\n",
       "      <th>Corinthians</th>\n",
       "      <td>1.291667</td>\n",
       "      <td>1.083333</td>\n",
       "    </tr>\n",
       "    <tr>\n",
       "      <th>Criciúma</th>\n",
       "      <td>1.500000</td>\n",
       "      <td>2.500000</td>\n",
       "    </tr>\n",
       "    <tr>\n",
       "      <th>Cruzeiro</th>\n",
       "      <td>1.000000</td>\n",
       "      <td>0.954545</td>\n",
       "    </tr>\n",
       "    <tr>\n",
       "      <th>Cuiabá</th>\n",
       "      <td>1.166667</td>\n",
       "      <td>1.166667</td>\n",
       "    </tr>\n",
       "    <tr>\n",
       "      <th>Flamengo</th>\n",
       "      <td>1.391304</td>\n",
       "      <td>0.869565</td>\n",
       "    </tr>\n",
       "    <tr>\n",
       "      <th>Fluminense</th>\n",
       "      <td>1.708333</td>\n",
       "      <td>1.083333</td>\n",
       "    </tr>\n",
       "    <tr>\n",
       "      <th>Fortaleza</th>\n",
       "      <td>1.391304</td>\n",
       "      <td>1.000000</td>\n",
       "    </tr>\n",
       "    <tr>\n",
       "      <th>Grêmio</th>\n",
       "      <td>1.652174</td>\n",
       "      <td>0.869565</td>\n",
       "    </tr>\n",
       "    <tr>\n",
       "      <th>Internacional</th>\n",
       "      <td>1.500000</td>\n",
       "      <td>1.045455</td>\n",
       "    </tr>\n",
       "    <tr>\n",
       "      <th>Juventude</th>\n",
       "      <td>1.250000</td>\n",
       "      <td>0.500000</td>\n",
       "    </tr>\n",
       "    <tr>\n",
       "      <th>Palmeiras</th>\n",
       "      <td>1.608696</td>\n",
       "      <td>0.652174</td>\n",
       "    </tr>\n",
       "    <tr>\n",
       "      <th>Red Bull Bragantino</th>\n",
       "      <td>1.458333</td>\n",
       "      <td>0.791667</td>\n",
       "    </tr>\n",
       "    <tr>\n",
       "      <th>São Paulo</th>\n",
       "      <td>1.478261</td>\n",
       "      <td>0.695652</td>\n",
       "    </tr>\n",
       "    <tr>\n",
       "      <th>Vasco da Gama</th>\n",
       "      <td>1.208333</td>\n",
       "      <td>1.458333</td>\n",
       "    </tr>\n",
       "    <tr>\n",
       "      <th>Vitória</th>\n",
       "      <td>1.000000</td>\n",
       "      <td>1.800000</td>\n",
       "    </tr>\n",
       "  </tbody>\n",
       "</table>\n",
       "</div>"
      ],
      "text/plain": [
       "                      gols feitos_casa  gols sofridos_casa\n",
       "Casa                                                      \n",
       "Athletico Paranaense          1.791667            0.875000\n",
       "Atlético Goianiense           0.750000            2.000000\n",
       "Atlético Mineiro              1.500000            0.818182\n",
       "Bahia                         1.478261            0.956522\n",
       "Botafogo                      1.913043            0.869565\n",
       "Corinthians                   1.291667            1.083333\n",
       "Criciúma                      1.500000            2.500000\n",
       "Cruzeiro                      1.000000            0.954545\n",
       "Cuiabá                        1.166667            1.166667\n",
       "Flamengo                      1.391304            0.869565\n",
       "Fluminense                    1.708333            1.083333\n",
       "Fortaleza                     1.391304            1.000000\n",
       "Grêmio                        1.652174            0.869565\n",
       "Internacional                 1.500000            1.045455\n",
       "Juventude                     1.250000            0.500000\n",
       "Palmeiras                     1.608696            0.652174\n",
       "Red Bull Bragantino           1.458333            0.791667\n",
       "São Paulo                     1.478261            0.695652\n",
       "Vasco da Gama                 1.208333            1.458333\n",
       "Vitória                       1.000000            1.800000"
      ]
     },
     "metadata": {},
     "output_type": "display_data"
    }
   ],
   "source": [
    "# Unindo as duas tabelas 2023 - 2024\n",
    "\n",
    "tabela_jogos_total = pd.concat([tabela_jogos_ajustada, jogos_realizados], ignore_index=True)\n",
    "media_gols_casa = tabela_jogos_total.groupby(\"Casa\").mean(numeric_only=True)\n",
    "media_gols_casa = media_gols_casa.rename(columns={\"gols_casa\": \"gols feitos_casa\", \"gols_fora\": \"gols sofridos_casa\"})\n",
    "media_gols_fora = tabela_jogos_total.groupby(\"Fora\").mean(numeric_only=True)\n",
    "media_gols_fora = media_gols_fora.rename(columns={\"gols_casa\": \"gols sofridos_fora\", \"gols_fora\": \"gols feitos_fora\"})\n",
    "\n",
    "media_gols_casa = media_gols_casa.drop(index=[\"Santos\", \"Goiás\", \"Coritiba\", \"América Mineiro\"])\n",
    "media_gols_fora = media_gols_fora.drop(index=[\"Santos\", \"Goiás\", \"Coritiba\", \"América Mineiro\"])\n",
    "\n",
    "\n",
    "display(media_gols_casa)"
   ]
  },
  {
   "cell_type": "code",
   "execution_count": 30,
   "metadata": {},
   "outputs": [
    {
     "data": {
      "text/plain": [
       "'\\ntabela_estatistica_2023 = media_gols_casa_2023.merge(media_gols_fora_2023, left_index=True, right_index=True)\\ntabela_estatistica_2023 = tabela_estatistica_2023.reset_index()\\ntabela_estatistica_2023 = tabela_estatistica_2023.rename(columns={\"Casa\": \"Time\"})\\n'"
      ]
     },
     "execution_count": 30,
     "metadata": {},
     "output_type": "execute_result"
    }
   ],
   "source": [
    "tabela_estatistica = media_gols_casa.merge(media_gols_fora, left_index=True, right_index=True)\n",
    "tabela_estatistica = tabela_estatistica.reset_index()\n",
    "tabela_estatistica = tabela_estatistica.rename(columns={\"Casa\": \"Time\"})\n",
    "\"\"\"\n",
    "tabela_estatistica_2023 = media_gols_casa_2023.merge(media_gols_fora_2023, left_index=True, right_index=True)\n",
    "tabela_estatistica_2023 = tabela_estatistica_2023.reset_index()\n",
    "tabela_estatistica_2023 = tabela_estatistica_2023.rename(columns={\"Casa\": \"Time\"})\n",
    "\"\"\""
   ]
  },
  {
   "cell_type": "markdown",
   "metadata": {},
   "source": [
    "## Previsões"
   ]
  },
  {
   "cell_type": "code",
   "execution_count": 12,
   "metadata": {},
   "outputs": [
    {
     "data": {
      "text/html": [
       "<div>\n",
       "<style scoped>\n",
       "    .dataframe tbody tr th:only-of-type {\n",
       "        vertical-align: middle;\n",
       "    }\n",
       "\n",
       "    .dataframe tbody tr th {\n",
       "        vertical-align: top;\n",
       "    }\n",
       "\n",
       "    .dataframe thead th {\n",
       "        text-align: right;\n",
       "    }\n",
       "</style>\n",
       "<table border=\"1\" class=\"dataframe\">\n",
       "  <thead>\n",
       "    <tr style=\"text-align: right;\">\n",
       "      <th></th>\n",
       "      <th>Fora</th>\n",
       "      <th>Casa</th>\n",
       "    </tr>\n",
       "  </thead>\n",
       "  <tbody>\n",
       "    <tr>\n",
       "      <th>1</th>\n",
       "      <td>Athletico Paranaense</td>\n",
       "      <td>Atlético Goianiense</td>\n",
       "    </tr>\n",
       "    <tr>\n",
       "      <th>2</th>\n",
       "      <td>Athletico Paranaense</td>\n",
       "      <td>Atlético Mineiro</td>\n",
       "    </tr>\n",
       "    <tr>\n",
       "      <th>3</th>\n",
       "      <td>Athletico Paranaense</td>\n",
       "      <td>Bahia</td>\n",
       "    </tr>\n",
       "    <tr>\n",
       "      <th>4</th>\n",
       "      <td>Athletico Paranaense</td>\n",
       "      <td>Botafogo</td>\n",
       "    </tr>\n",
       "    <tr>\n",
       "      <th>5</th>\n",
       "      <td>Athletico Paranaense</td>\n",
       "      <td>Corinthians</td>\n",
       "    </tr>\n",
       "    <tr>\n",
       "      <th>...</th>\n",
       "      <td>...</td>\n",
       "      <td>...</td>\n",
       "    </tr>\n",
       "    <tr>\n",
       "      <th>392</th>\n",
       "      <td>Vasco da Gama</td>\n",
       "      <td>Grêmio</td>\n",
       "    </tr>\n",
       "    <tr>\n",
       "      <th>393</th>\n",
       "      <td>Vasco da Gama</td>\n",
       "      <td>Internacional</td>\n",
       "    </tr>\n",
       "    <tr>\n",
       "      <th>394</th>\n",
       "      <td>Vasco da Gama</td>\n",
       "      <td>Juventude</td>\n",
       "    </tr>\n",
       "    <tr>\n",
       "      <th>397</th>\n",
       "      <td>Vasco da Gama</td>\n",
       "      <td>São Paulo</td>\n",
       "    </tr>\n",
       "    <tr>\n",
       "      <th>398</th>\n",
       "      <td>Vasco da Gama</td>\n",
       "      <td>Vitória</td>\n",
       "    </tr>\n",
       "  </tbody>\n",
       "</table>\n",
       "<p>296 rows × 2 columns</p>\n",
       "</div>"
      ],
      "text/plain": [
       "                     Fora                 Casa\n",
       "1    Athletico Paranaense  Atlético Goianiense\n",
       "2    Athletico Paranaense     Atlético Mineiro\n",
       "3    Athletico Paranaense                Bahia\n",
       "4    Athletico Paranaense             Botafogo\n",
       "5    Athletico Paranaense          Corinthians\n",
       "..                    ...                  ...\n",
       "392         Vasco da Gama               Grêmio\n",
       "393         Vasco da Gama        Internacional\n",
       "394         Vasco da Gama            Juventude\n",
       "397         Vasco da Gama            São Paulo\n",
       "398         Vasco da Gama              Vitória\n",
       "\n",
       "[296 rows x 2 columns]"
      ]
     },
     "metadata": {},
     "output_type": "display_data"
    }
   ],
   "source": [
    "# Disitribuição de Poisson - Eventos independentes\n",
    "time_casa = \"Vitória\"\n",
    "time_fora = \"Vasco da Gama\"\n",
    "\n",
    "lambda_casa = \n",
    "display(jogos_faltantes)\n",
    "\n",
    "\n"
   ]
  }
 ],
 "metadata": {
  "kernelspec": {
   "display_name": "Python 3",
   "language": "python",
   "name": "python3"
  },
  "language_info": {
   "codemirror_mode": {
    "name": "ipython",
    "version": 3
   },
   "file_extension": ".py",
   "mimetype": "text/x-python",
   "name": "python",
   "nbconvert_exporter": "python",
   "pygments_lexer": "ipython3",
   "version": "3.11.5"
  }
 },
 "nbformat": 4,
 "nbformat_minor": 2
}
